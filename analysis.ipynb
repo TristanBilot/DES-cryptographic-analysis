{
 "cells": [
  {
   "cell_type": "code",
   "execution_count": 1,
   "metadata": {},
   "outputs": [],
   "source": [
    "import sys\n",
    "sys.path.append('/Users/tristanbilot/Desktop/Desktop/EPITA/S8/Cryptology/project')\n",
    "from typing import Callable, Union, List\n",
    "from pyDes import des\n",
    "from random import random\n",
    "from matplotlib import pyplot as plt\n",
    "import math"
   ]
  },
  {
   "cell_type": "markdown",
   "metadata": {},
   "source": [
    "## Cryptographic analysis of DES algorithm\n",
    "#### I.   Find patterns from x0  \n",
    "#### II.  Find patterns from the encryption key   \n",
    "#### III. Analysis of the ASCII letters using ASCII incrementation or translation  \n",
    "#### IV.  Benchmark  \n",
    "#### V.   Conclusion"
   ]
  },
  {
   "cell_type": "markdown",
   "metadata": {},
   "source": [
    "The constructor of the DES object has been modified in order to modify the number of turns of the encryption algorithm."
   ]
  },
  {
   "cell_type": "code",
   "execution_count": 12,
   "metadata": {},
   "outputs": [],
   "source": [
    "key = \"xyxyxyxy\"\n",
    "algo = des(key, 3) # 3 is the number of turns of the DES encryption algorithm"
   ]
  },
  {
   "cell_type": "markdown",
   "metadata": {},
   "source": [
    "## Hands-on encrypt function\n",
    "### Compare length\n",
    "This test shows us that the length of the output of the encrypt function depends on the length of the input.\n",
    "The input has to be be a modulo of 8. For each input of size n, the encrypted output is of the same size (x2 because of the hexa form).<br>\n",
    "**==> DES uses a 56bit key for encryption.**"
   ]
  },
  {
   "cell_type": "code",
   "execution_count": 3,
   "metadata": {},
   "outputs": [
    {
     "name": "stdout",
     "output_type": "stream",
     "text": [
      "24 - 24\n",
      "48 - 48\n",
      "72 - 72\n",
      "96 - 96\n"
     ]
    }
   ],
   "source": [
    "\"\"\"\n",
    "Compares the output lengths of the encrypt function.\n",
    "\"\"\"\n",
    "for i in range(1, 5):\n",
    "    s = 'aaaaaaaaaaaaaaaaaaaaaaaa' * i\n",
    "    print(f'{len(s)} - {len(algo.encrypt(s))}')"
   ]
  },
  {
   "cell_type": "markdown",
   "metadata": {},
   "source": [
    "### Compare encrypted value\n",
    "Now, by comparing the actual output of the encrypt function.<br>\n",
    "Let's create a variable 'a' and 'b' is the DES of a, then we see that **if DES(a) = b, then, DES(aa) = bb**."
   ]
  },
  {
   "cell_type": "code",
   "execution_count": 4,
   "metadata": {},
   "outputs": [
    {
     "name": "stdout",
     "output_type": "stream",
     "text": [
      "aaaaaaaa - dfcae27fb190d12b\n",
      "aaaaaaaaaaaaaaaa - dfcae27fb190d12bdfcae27fb190d12b\n"
     ]
    }
   ],
   "source": [
    "\"\"\"\n",
    "The DES of the concatenation of a same variable is the concatenation of the DES of this variable.\n",
    "\"\"\"\n",
    "for i in range(1, 3):\n",
    "    s = 'aaaaaaaa' * i\n",
    "    print(f'{s} - {algo.encrypt(s).hex()}')"
   ]
  },
  {
   "cell_type": "markdown",
   "metadata": {},
   "source": [
    "## I. Find patterns from x0 (the initial value)\n",
    "## Using Floyd algorithm to analyse DES\n",
    "- Distance of different bits\n",
    "- Distance of different characters\n",
    "- Distance of longest common substring"
   ]
  },
  {
   "cell_type": "code",
   "execution_count": 5,
   "metadata": {},
   "outputs": [],
   "source": [
    "def f(data: Union[int, str]) -> Union[int, str]:\n",
    "    \"\"\"\n",
    "    Function used to encrypt in DES.\n",
    "    \"\"\"\n",
    "    return algo.encrypt(data)"
   ]
  },
  {
   "cell_type": "code",
   "execution_count": 6,
   "metadata": {},
   "outputs": [],
   "source": [
    "\"\"\"\n",
    "Utils.\n",
    "\"\"\"\n",
    "def pad_and_encrypt(data: Union[int, str]) -> bytes:\n",
    "    \"\"\"\n",
    "    Takes an integer or str as input, pad it to 8 bytes and encrypt it\n",
    "    using the DES object.\n",
    "    \"\"\"\n",
    "    if type(data) is int:\n",
    "        data = (data).to_bytes(8, byteorder='big')\n",
    "    return algo.encrypt(data)\n",
    "\n",
    "def encrypt_with_key(data: Union[int, str], key: str) -> bytes:\n",
    "    \"\"\"\n",
    "    Encrypt with DES using data and key.\n",
    "    \"\"\"\n",
    "    algo = des(key)\n",
    "    return algo.encrypt(data)\n",
    "\n",
    "def bytes_to_binary(data: bytes):\n",
    "    \"\"\"\n",
    "    Converts bytes to binary number.\n",
    "    \"\"\"\n",
    "    return bin(int(pad_and_encrypt(data).hex(), base=16))\n",
    "\n",
    "def dump_encrypt_values(data: int):\n",
    "    \"\"\"\n",
    "    Displays the encrypted values (hex and bin) of an input.\n",
    "    The input should be a non-encrypted value.\n",
    "    \"\"\"\n",
    "    print(f'{data}:')\n",
    "    data = pad_and_encrypt(data)\n",
    "    print(f'\\thex: {data.hex()}')\n",
    "    print(f'\\tbin: {bytes_to_binary(data)}')\n",
    "\n",
    "def dump_encrypt_key(data: str, key: str):\n",
    "    \"\"\"\n",
    "    Displays the encrypted values (hex and bin) of an input.\n",
    "    The input should be a non-encrypted value.\n",
    "    \"\"\"\n",
    "    print(f'{key}:')\n",
    "    data = encrypt_with_key(data, key)\n",
    "    print(f'\\thex: {data.hex()}')\n",
    "    print(f'\\tbin: {bytes_to_binary(data)}')\n",
    "\n",
    "def plot(histogram: List):\n",
    "    \"\"\"\n",
    "    Used to plot histograms.\n",
    "    \"\"\"\n",
    "    plt.xlabel('distance')\n",
    "    plt.ylabel('occurences')\n",
    "    plt.hist(histogram)"
   ]
  },
  {
   "cell_type": "markdown",
   "metadata": {},
   "source": [
    "The actual floyd algorithm implementing the \"Lievre et la tortue\" version to find an approached cycle in the encryptions of values generated itiratively by the function f."
   ]
  },
  {
   "cell_type": "code",
   "execution_count": 7,
   "metadata": {},
   "outputs": [],
   "source": [
    "def floyd(\n",
    "    distance_fn: Callable, \n",
    "    f: Callable, \n",
    "    x0: object, \n",
    "    delta: int,\n",
    "    max_iter: int=math.inf,\n",
    "    verbose: int=True\n",
    "    ):\n",
    "    \"\"\"\n",
    "    \"Lievre et la tortue\" algorithm to compute an approached cycle \n",
    "    based on the DES encryption algorithm.\n",
    "\n",
    "    Parameters:\n",
    "    ----------\n",
    "    distance_fn: Callable\n",
    "        The distance function used as stop condition for the loop.\n",
    "    f: Callable\n",
    "        The iterative function used to generate new data from `x0`.\n",
    "    x0: object\n",
    "        Object used as first item for the generation of samples to encrypt.\n",
    "        It can be int, str... but `distance_fn` should handle the type of delta.\n",
    "    delta: int\n",
    "        The value used to stop the loop when compared to the distance function.\n",
    "    \"\"\"\n",
    "    m = 1\n",
    "    histogram = []\n",
    "    tortue = f(x0)\n",
    "    lievre = f(f(x0))\n",
    "    if None in [tortue, lievre]:\n",
    "        return [len(x0)]\n",
    "    dist = distance_fn(pad_and_encrypt(tortue), pad_and_encrypt(lievre))\n",
    "\n",
    "    while (dist > delta or lievre == tortue) and m <= max_iter:\n",
    "        m = m + 1\n",
    "\n",
    "        tortue = f(tortue)\n",
    "        lievre = f(f(lievre))\n",
    "        if tortue is None or lievre is None:\n",
    "            break\n",
    "        if lievre == tortue:\n",
    "            continue\n",
    "\n",
    "        dist = distance_fn(pad_and_encrypt(tortue), pad_and_encrypt(lievre))\n",
    "        histogram.append(dist)\n",
    "\n",
    "    if verbose:\n",
    "        if m <= max_iter and not (tortue is None or lievre is None):\n",
    "            print(f'\\n[+] Found - number of differences: {dist}')\n",
    "            dump_encrypt_values(lievre)\n",
    "            dump_encrypt_values(tortue)\n",
    "            print(f'iteration: {m}')\n",
    "        else:\n",
    "            print(f'No solution found in reasonable time. ({max_iter} iter)')\n",
    "    return histogram"
   ]
  },
  {
   "cell_type": "markdown",
   "metadata": {},
   "source": [
    "## 1. Bit distance\n",
    "The first implementation use the well known Hamming distance on each pairs of encrypted values in order to find pairs with little distances, meaning that we could find similar patterns using differents inputs."
   ]
  },
  {
   "cell_type": "code",
   "execution_count": 8,
   "metadata": {},
   "outputs": [],
   "source": [
    "def bit_distance(a, b):\n",
    "    \"\"\"\n",
    "    Computes the number of different bits between bytes a & b.\n",
    "    \"\"\"\n",
    "    a = int.from_bytes(a, 'big')\n",
    "    b = int.from_bytes(b, 'big')\n",
    "    return bin(a ^ b).count('1')\n",
    "\n",
    "assert bit_distance(b'\\x08', b'\\x04') == 2\n",
    "assert bit_distance(b'\\x02', b'\\x02') == 0"
   ]
  },
  {
   "cell_type": "markdown",
   "metadata": {},
   "source": [
    "The following example **finds a pair of ciphered values where the number of different bits is <= 18.**<br>\n",
    "In a reasonable time, pairs containing 15 or 16 different bits can be found (ex: 9777 and 9602)"
   ]
  },
  {
   "cell_type": "code",
   "execution_count": 9,
   "metadata": {
    "tags": []
   },
   "outputs": [
    {
     "name": "stdout",
     "output_type": "stream",
     "text": [
      "\n",
      "[+] Found - number of differences: 16\n",
      "b'\\xe2\\xe0\\n\\xa3\\xdd\\xe9\\x00G':\n",
      "\thex: 229084a3dd398831\n",
      "\tbin: 0b100100101000111110110001100111011001101100010100111110110100111\n",
      "b'G\\xc9X\\xfb\\xb9\\xd2H\\xff':\n",
      "\thex: 2b90c063e5bd9c22\n",
      "\tbin: 0b1101000001100001111000000000010000001110001111100101101111000\n",
      "iteration: 2114\n"
     ]
    },
    {
     "data": {
      "image/png": "[encoded data removed]",
      "text/plain": [
       "<Figure size 432x288 with 1 Axes>"
      ]
     },
     "metadata": {
      "needs_background": "light"
     },
     "output_type": "display_data"
    }
   ],
   "source": [
    "distance_fn = bit_distance\n",
    "delta = 16\n",
    "x0 = \"aaaaaaaa\"\n",
    "histogram = floyd(distance_fn, f, x0, delta)\n",
    "plot(histogram)"
   ]
  },
  {
   "cell_type": "markdown",
   "metadata": {},
   "source": [
    "## 2. Distance of different characters\n",
    "This distance algorithm computes the number of different characters between the two ciphered messages.\n",
    "Considering that the messages are 8-bytes long, it is really hard to find pairs with more than 2 common bytes (the function returns a value < 6). So we do not got nice results using this method."
   ]
  },
  {
   "cell_type": "code",
   "execution_count": 10,
   "metadata": {},
   "outputs": [],
   "source": [
    "def char_distance(a, b):\n",
    "    \"\"\"\n",
    "    Computes the number of different characters between the 2 bytes objects a & b.\n",
    "    Run over the two 8-bytes hex objects and perform comparison 2 bytes by 2 bytes.\n",
    "    \"\"\"\n",
    "    a = a.hex()\n",
    "    b = b.hex()\n",
    "    assert len(a) % 8 == 0 and len(b) % 8 == 0\n",
    "    d = 0\n",
    "    for i in range(len(a) // 2):\n",
    "        i = i * 2\n",
    "        if a[i: i+2] != b[i: i+2]:\n",
    "            d += 1\n",
    "    return d\n",
    "\n",
    "assert char_distance(b'abcaazer', b'adqaazer') == 2\n",
    "assert char_distance(b'abcdefgb', b'abcdefgb') == 0"
   ]
  },
  {
   "cell_type": "markdown",
   "metadata": {},
   "source": [
    "The following example shows a 6-bytes difference between a pair (177 and 625). Looking for pairs with less than 6 different bytes has not been possible in reasonable time."
   ]
  },
  {
   "cell_type": "code",
   "execution_count": 11,
   "metadata": {
    "tags": []
   },
   "outputs": [
    {
     "name": "stdout",
     "output_type": "stream",
     "text": [
      "\n",
      "[+] Found - number of differences: 6\n",
      "b'\\xd1\\x81\\x87@\\x98\\xae}n':\n",
      "\thex: f9baab5575acba30\n",
      "\tbin: 0b1001010010100010011110101100010100000110110111110011110110110\n",
      "b'p\\xc8\\xf9+|$\\xd4\\xac':\n",
      "\thex: 8ff0ab3f75233559\n",
      "\tbin: 0b1111100100100110111100011101100110100110011001000011010100100000\n",
      "iteration: 1217\n"
     ]
    },
    {
     "data": {
      "image/png": "[encoded data removed]",
      "text/plain": [
       "<Figure size 432x288 with 1 Axes>"
      ]
     },
     "metadata": {
      "needs_background": "light"
     },
     "output_type": "display_data"
    }
   ],
   "source": [
    "distance_fn = char_distance\n",
    "delta = 6\n",
    "x0 = \"aaaaaaaa\"\n",
    "histogram = floyd(distance_fn, f, x0, delta)\n",
    "plot(histogram)"
   ]
  },
  {
   "cell_type": "markdown",
   "metadata": {},
   "source": [
    "## 3. Distance of longest common substring\n",
    "The following algorithm compute the number of characters that are not in the longest common substring of each pair traversed by the main loop. So it allows us to check whether a similar pattern is discovered among different values.<br>\n",
    "The max lcs computed in reasonable time in of **size 3** (delta = 8-3=5) with the values 58859 and 29437.\n",
    "\n",
    "> Note: The recursive version of LCS has been tested but does not work for strings > 8 bytes because of calls stack."
   ]
  },
  {
   "cell_type": "code",
   "execution_count": 12,
   "metadata": {},
   "outputs": [],
   "source": [
    "def lcs_distance(a, b, verbose: bool=False) -> int:\n",
    "    \"\"\"\n",
    "    Returns the number of characters that are not in the longest substring between a and b.\n",
    "    Ex: lcs_distance('abc', 'abd') == 1 because the lcs is 'ab' and the number of remained\n",
    "    charcaters is only 1.\n",
    "    \"\"\"\n",
    "    assert len(a) % 8 == 0 and len(b) % 8 == 0\n",
    "\n",
    "    la, lb = len(a), len(b)\n",
    "    maxL, end = 0, la\n",
    "    dp = [[0 for x in range(lb + 1)] for y in range(la + 1)]\n",
    " \n",
    "    for i in range(1, la + 1):\n",
    "        for j in range(1, lb + 1):\n",
    "            if a[i - 1] == b[j - 1]:\n",
    "                dp[i][j] = dp[i - 1][j - 1] + 1\n",
    "                if dp[i][j] > maxL:\n",
    "                    maxL = dp[i][j]\n",
    "                    end = i\n",
    "\n",
    "    lcs = a[end - maxL: end]\n",
    "    dist = len(a) - len(lcs)\n",
    "    \n",
    "    if verbose:\n",
    "        print(lcs)\n",
    "        return lcs, dist\n",
    "    return dist\n",
    "\n",
    "assert lcs_distance('abcpoiuy', 'abcmlkjh') == 8 - 3\n",
    "assert lcs_distance('xsmtreop', 'amtreqze') == 8 - 4"
   ]
  },
  {
   "cell_type": "markdown",
   "metadata": {},
   "source": [
    "We found LCS=2 for key=\"AAAAAAAA\" and LCS=3 for key=\"xyxyxyxy\""
   ]
  },
  {
   "cell_type": "code",
   "execution_count": 13,
   "metadata": {},
   "outputs": [
    {
     "name": "stdout",
     "output_type": "stream",
     "text": [
      "No solution found in reasonable time. (10000 iter)\n"
     ]
    },
    {
     "data": {
      "image/png": "[encoded data removed]",
      "text/plain": [
       "<Figure size 432x288 with 1 Axes>"
      ]
     },
     "metadata": {
      "needs_background": "light"
     },
     "output_type": "display_data"
    }
   ],
   "source": [
    "distance_fn = lcs_distance\n",
    "delta = 4\n",
    "x0 = \"aaaaaaaa\"\n",
    "histogram = floyd(distance_fn, f, x0, delta, max_iter=10000)\n",
    "plot(histogram)"
   ]
  },
  {
   "cell_type": "markdown",
   "metadata": {},
   "source": [
    "### Match: found a pattern in the LCS\n",
    "When using keys of the form xyxyxyxy and yxyxyxyx we figure that the LCS are the same.  "
   ]
  },
  {
   "cell_type": "code",
   "execution_count": 14,
   "metadata": {},
   "outputs": [
    {
     "name": "stdout",
     "output_type": "stream",
     "text": [
      "a3\n",
      "ae\n",
      "8d\n",
      "0\n",
      "0a\n",
      "a7\n",
      "=====\n",
      "a3\n",
      "ae\n",
      "8d\n",
      "0\n",
      "0a\n",
      "a7\n"
     ]
    }
   ],
   "source": [
    "# POC\n",
    "def lcs_floyd(data: str, key: str, delta: int, max_iter: int):\n",
    "    \"\"\"\n",
    "    Proof that a word ciphered with xyxyxyxy or yxyxyxyx gives the same LCSs.\n",
    "    \"\"\"\n",
    "    m = 1\n",
    "    k = des(key)\n",
    "    tortue = k.encrypt(data)\n",
    "    lievre = k.encrypt(tortue)\n",
    "    _, dist = lcs_distance(tortue.hex(), lievre.hex(), verbose=True)\n",
    "    dist = len(data) - dist\n",
    "    history = []\n",
    "\n",
    "    while dist <= delta and m <= max_iter:\n",
    "        m = m + 1\n",
    "        tortue = k.encrypt(tortue)\n",
    "        lievre = k.encrypt(k.encrypt(lievre))\n",
    "        _, dist = lcs_distance(tortue.hex(), lievre.hex(), verbose=True)\n",
    "        dist = len(data) - dist\n",
    "        history.append(dist)\n",
    "    return history\n",
    "\n",
    "data = \"aozpengh\"\n",
    "a = lcs_floyd(data, \"xyxyxyxy\", 5, 5)\n",
    "print('=====')\n",
    "b = lcs_floyd(data, \"yxyxyxyx\", 5, 5)\n",
    "assert a == b"
   ]
  },
  {
   "cell_type": "markdown",
   "metadata": {},
   "source": [
    "## 4. Tests using letter alterations (xy => xz...)\n",
    "### Letters incrementation\n",
    "This algorithm tries to find patterns when generating strings following this schema:<br>\n",
    "**aaaa => abab => acac => ... => azaz => bzbz => ... => zzzz**<br>\n",
    "But when the size of the generated strings is greater than 16, the algorithm does not respond anymore, because of too long calculations. Briefly, the max delta used for this algorithm is 7 so it is a really bad result."
   ]
  },
  {
   "cell_type": "code",
   "execution_count": 2,
   "metadata": {},
   "outputs": [],
   "source": [
    "def f_str_increm(data: str, verbose: bool=False, double_if_max: bool=True) -> str:\n",
    "    \"\"\"\n",
    "    Iterative function which generates a string following this schema:\n",
    "    aaaa => abab => acac => ... => azaz => bzbz => ... => zzzz\n",
    "    When arrived to zzzz...z, return aaaa...a of size len(data) * 2.\n",
    "    \"\"\"\n",
    "    if data is None:\n",
    "        return None\n",
    "\n",
    "    assert len(data) >= 2 and len(data) % 2 == 0\n",
    "    assert 'a' <= data[0] <= 'z' and 'a' <= data[1] <= 'z'\n",
    "\n",
    "    # checks whether the str is full of 'z's, then double with 'a's.\n",
    "    if data[0] == 'z' and len(set(data)) == 1:\n",
    "        if double_if_max:\n",
    "            return ''.join('a' * (len(data) * 2))\n",
    "        return None\n",
    "\n",
    "    # handle aaaa => abab\n",
    "    newList = list(data)\n",
    "    find_z = data[1] == 'z'\n",
    "    off = 0 if find_z else 1\n",
    "    newChar = chr(ord(data[off]) + 1)\n",
    "    permutations = [i * 2 + off for i in range(len(data) // 2)]\n",
    "\n",
    "    for p in permutations:\n",
    "        newList[p] = newChar\n",
    "\n",
    "    # handle azaz => baba\n",
    "    if find_z:\n",
    "        permutations = [i * 2 + 1 for i in range(len(data) // 2)]\n",
    "        newChar = 'a'\n",
    "        for p in permutations:\n",
    "            newList[p] = newChar\n",
    "\n",
    "    res = ''.join(newList)\n",
    "    if verbose:\n",
    "        print(res)\n",
    "    return res\n",
    "\n",
    "def f_str_increm_no_double(data: str, verbose: bool=False) -> str:\n",
    "    return f_str_increm(data, verbose, False)"
   ]
  },
  {
   "cell_type": "code",
   "execution_count": 3,
   "metadata": {},
   "outputs": [
    {
     "name": "stdout",
     "output_type": "stream",
     "text": [
      "abababab\n",
      "acacacac\n",
      "adadadad\n",
      "aeaeaeae\n",
      "afafafaf\n",
      "agagagag\n",
      "ahahahah\n",
      "aiaiaiai\n",
      "ajajajaj\n",
      "akakakak\n"
     ]
    }
   ],
   "source": [
    "\"\"\"\n",
    "Test of f_str_increm iterative function.\n",
    "\"\"\"\n",
    "seed = \"aaaaaaaa\"\n",
    "for _ in range(10):\n",
    "    seed = f_str_increm(seed, True)"
   ]
  },
  {
   "cell_type": "code",
   "execution_count": null,
   "metadata": {},
   "outputs": [
    {
     "name": "stdout",
     "output_type": "stream",
     "text": [
      "\n",
      "[+] Found - number of differences: 0\n",
      "aaaaaaaaaaaaaaaaaaaaaaaaaaaaaaaa:\n",
      "\thex: dfcae27fb190d12bdfcae27fb190d12bdfcae27fb190d12bdfcae27fb190d12b\n",
      "\tbin: 0b1011001000111111101111100111010101101110011111001100010001110011101100100011111110111110011101010110111001111100110001000111001110110010001111111011111001110101011011100111110011000100011100111011001000111111101111100111010101101110011111001100010001110011\n",
      "aaaaaaaaaaaaaaaa:\n",
      "\thex: dfcae27fb190d12bdfcae27fb190d12b\n",
      "\tbin: 0b10110010001111111011111001110101011011100111110011000100011100111011001000111111101111100111010101101110011111001100010001110011\n",
      "iteration: 676\n"
     ]
    },
    {
     "data": {
      "image/png": "[encoded data removed]",
      "text/plain": [
       "<Figure size 432x288 with 1 Axes>"
      ]
     },
     "metadata": {
      "needs_background": "light"
     },
     "output_type": "display_data"
    }
   ],
   "source": [
    "distance_fn = lcs_distance\n",
    "delta = 6\n",
    "x0 = \"aaaaaaaa\"\n",
    "histogram = floyd(distance_fn, f_str_increm, x0, delta)\n",
    "plot(histogram)"
   ]
  },
  {
   "cell_type": "markdown",
   "metadata": {},
   "source": [
    "### Letters random subsitution with alphabet letters\n",
    "This implementation randomly substitute letters in the string with random alphabet letters. We expected to have better results than the previous attempt using letter incrementations because of the fixed size (not doubling the size when all cases are reached) but the program also does not respond after reaching the 16 bytes string length.<br>\n",
    "However, **we achieved a lcs of size 2** which means a delta=6 (8-2=6) in few seconds ('xfxfxfxf' and 'imimimim' in 534 iterations).<br>\n",
    " **In short time, no solution is possible for delta<6 with string pairs of size 8 bytes.**"
   ]
  },
  {
   "cell_type": "code",
   "execution_count": null,
   "metadata": {},
   "outputs": [],
   "source": [
    "import string\n",
    "\n",
    "def f_str_rand(data: str, verbose: bool=False) -> str:\n",
    "    \"\"\"\n",
    "    Iterative function which generates a string following a random schema.\n",
    "    The letter subsitution is done with an offset of 1 char.\n",
    "    Ex: aaaa => aqaq => sqsq => wqwq => ...\n",
    "    \"\"\"\n",
    "    assert len(data) >= 2 and len(data) % 2 == 0\n",
    "    assert 'a' <= data[0] <= 'z' and 'a' <= data[1] <= 'z'\n",
    "\n",
    "    newList = list(data)\n",
    "    off = round(random())\n",
    "    permutations = [i * 2 + off for i in range(len(data) // 2)]\n",
    "\n",
    "    abc = string.ascii_lowercase\n",
    "    rd = round(random() * (26 - 1))\n",
    "    rd_char = abc[rd]\n",
    "\n",
    "    for p in permutations:\n",
    "        newList[p] = rd_char\n",
    "\n",
    "    res = ''.join(newList)\n",
    "    if verbose:\n",
    "        print(res)\n",
    "    return res"
   ]
  },
  {
   "cell_type": "code",
   "execution_count": null,
   "metadata": {},
   "outputs": [
    {
     "name": "stdout",
     "output_type": "stream",
     "text": [
      "rararara\n",
      "xaxaxaxa\n",
      "vavavava\n",
      "kakakaka\n",
      "kckckckc\n",
      "scscscsc\n",
      "gcgcgcgc\n",
      "gsgsgsgs\n",
      "rsrsrsrs\n",
      "lslslsls\n"
     ]
    }
   ],
   "source": [
    "\"\"\"\n",
    "Test of f_str_rand iterative function.\n",
    "\"\"\"\n",
    "seed = \"aaaaaaaa\"\n",
    "for _ in range(10):\n",
    "    seed = f_str_rand(seed, True)"
   ]
  },
  {
   "cell_type": "code",
   "execution_count": null,
   "metadata": {
    "tags": []
   },
   "outputs": [
    {
     "name": "stdout",
     "output_type": "stream",
     "text": [
      "\n",
      "[+] Found - number of differences: 6\n",
      "sksksksk:\n",
      "\thex: 2188e1c8c9c2bde8\n",
      "\tbin: 0b1011111010000100011001100001111000101010111110111011100011011111\n",
      "ynynynyn:\n",
      "\thex: 4bee84472188eb42\n",
      "\tbin: 0b1100101100101111111100100100010101010001100011011010101110101010\n",
      "iteration: 11\n"
     ]
    },
    {
     "data": {
      "image/png": "[encoded data removed]",
      "text/plain": [
       "<Figure size 432x288 with 1 Axes>"
      ]
     },
     "metadata": {
      "needs_background": "light"
     },
     "output_type": "display_data"
    }
   ],
   "source": [
    "distance_fn = lcs_distance\n",
    "delta = 6\n",
    "x0 = \"aaaaaaaa\"\n",
    "histogram = floyd(distance_fn, f_str_rand, x0, delta)\n",
    "plot(histogram)"
   ]
  },
  {
   "cell_type": "markdown",
   "metadata": {},
   "source": [
    "## 5. Applying all the previous algorithms with schema xyxy (random & increment)\n",
    "Some of the first algorithms (bit_distance, char_distance) used x0 as a number for testing purpose, now we are interested to test with string using the schema aaaa => abab => ... => azaz."
   ]
  },
  {
   "cell_type": "markdown",
   "metadata": {},
   "source": [
    "### Char distance with string incrementation (aaaa => abab => ... => azaz)\n",
    "The first test finished as expected to the following pair:  \n",
    "- **str**: aaaaaaaaaaaaaaaaaaaaaaaaaaaaaaaa\n",
    "    - **encrypted**: 20e3f711dd4d650b20e3f711dd4d650b20e3f711dd4d650b20e3f711dd4d650b  \n",
    "    \n",
    "- **str**: aaaaaaaaaaaaaaaa \n",
    "    - **encrypted**: 20e3f711dd4d650b20e3f711dd4d650b\n",
    "    \n",
    "As the short string is contained in the long one, the algorithm stops with a char difference of 0 (delta=0)."
   ]
  },
  {
   "cell_type": "code",
   "execution_count": null,
   "metadata": {},
   "outputs": [
    {
     "name": "stdout",
     "output_type": "stream",
     "text": [
      "\n",
      "[+] Found - number of differences: 0\n",
      "aaaaaaaaaaaaaaaaaaaaaaaaaaaaaaaa:\n",
      "\thex: dfcae27fb190d12bdfcae27fb190d12bdfcae27fb190d12bdfcae27fb190d12b\n",
      "\tbin: 0b1011001000111111101111100111010101101110011111001100010001110011101100100011111110111110011101010110111001111100110001000111001110110010001111111011111001110101011011100111110011000100011100111011001000111111101111100111010101101110011111001100010001110011\n",
      "aaaaaaaaaaaaaaaa:\n",
      "\thex: dfcae27fb190d12bdfcae27fb190d12b\n",
      "\tbin: 0b10110010001111111011111001110101011011100111110011000100011100111011001000111111101111100111010101101110011111001100010001110011\n",
      "iteration: 676\n"
     ]
    },
    {
     "data": {
      "image/png": "[encoded data removed]",
      "text/plain": [
       "<Figure size 432x288 with 1 Axes>"
      ]
     },
     "metadata": {
      "needs_background": "light"
     },
     "output_type": "display_data"
    }
   ],
   "source": [
    "distance_fn = char_distance\n",
    "delta = 6\n",
    "x0 = \"aaaaaaaa\"\n",
    "histogram = floyd(distance_fn, f_str_increm, x0, delta)\n",
    "plot(histogram)"
   ]
  },
  {
   "cell_type": "markdown",
   "metadata": {},
   "source": [
    "### Char distance with string random generation (aaaa => afaf => ... => mpmporor ...)\n",
    "Concerning the random generation of this pattern, we do not achieve better results than with x0 as an integer.  \n",
    "Dela=6 is doable in few milliseconds but Delta=5 (3 common bytes) gives no great results."
   ]
  },
  {
   "cell_type": "code",
   "execution_count": null,
   "metadata": {},
   "outputs": [
    {
     "name": "stdout",
     "output_type": "stream",
     "text": [
      "\n",
      "[+] Found - number of differences: 6\n",
      "qoqoqoqo:\n",
      "\thex: 4fc8c6ff349a46eb\n",
      "\tbin: 0b1010100000010110100110110000100101111100101000101101001111011\n",
      "dgdgdgdg:\n",
      "\thex: 4a9d32ffedf546e2\n",
      "\tbin: 0b1010101110000011011111100101011001110110100001110001011100110000\n",
      "iteration: 3919\n"
     ]
    },
    {
     "data": {
      "image/png": "[encoded data removed]",
      "text/plain": [
       "<Figure size 432x288 with 1 Axes>"
      ]
     },
     "metadata": {
      "needs_background": "light"
     },
     "output_type": "display_data"
    }
   ],
   "source": [
    "distance_fn = char_distance\n",
    "delta = 6\n",
    "x0 = \"aaaaaaaa\"\n",
    "histogram = floyd(distance_fn, f_str_rand, x0, delta)\n",
    "plot(histogram)"
   ]
  },
  {
   "cell_type": "markdown",
   "metadata": {},
   "source": [
    "### Bit distance with string incrementation (aaaa => abab => ... => azaz)\n",
    "The bit distance with string incrementation gives no intersting results with a delta < 22 in doable time."
   ]
  },
  {
   "cell_type": "code",
   "execution_count": null,
   "metadata": {},
   "outputs": [
    {
     "name": "stdout",
     "output_type": "stream",
     "text": [
      "\n",
      "[+] Found - number of differences: 21\n",
      "cycycycy:\n",
      "\thex: 5725fb90507b0fe5\n",
      "\tbin: 0b1111101100100000111001010100001011111000110101011100011100001\n",
      "bmbmbmbm:\n",
      "\thex: 1791f3d5812727a7\n",
      "\tbin: 0b1111101111010010111010110000101011100001011110000001100010000\n",
      "iteration: 38\n"
     ]
    },
    {
     "data": {
      "image/png": "[encoded data removed]",
      "text/plain": [
       "<Figure size 432x288 with 1 Axes>"
      ]
     },
     "metadata": {
      "needs_background": "light"
     },
     "output_type": "display_data"
    }
   ],
   "source": [
    "distance_fn = bit_distance\n",
    "delta = 22\n",
    "x0 = \"aaaaaaaa\"\n",
    "histogram = floyd(distance_fn, f_str_increm, x0, delta)\n",
    "plot(histogram)"
   ]
  },
  {
   "cell_type": "markdown",
   "metadata": {},
   "source": [
    "### Bit distance with string random generation (aaaa => afaf => ... => mpmporor ...)  \n",
    "Using this implementation, we can find pairs containing only 15/64 different bits (found in 2s-8k iterations) or even 14bits.\n",
    "\n",
    "\n",
    "|   Str 1  |   Str 2  | Different bits |  Iter | Time (s) |\n",
    "|:--------:|:--------:|:--------------:|:-----:|:--------:|\n",
    "| vrvrvrvr | gpgpgpgp |       15       | 8563  |    ~2s    |\n",
    "| gtgtgtgt | mqmqmqmq |       14       | 31172 |    ~300s    |"
   ]
  },
  {
   "cell_type": "code",
   "execution_count": null,
   "metadata": {},
   "outputs": [
    {
     "name": "stdout",
     "output_type": "stream",
     "text": [
      "\n",
      "[+] Found - number of differences: 17\n",
      "sqsqsqsq:\n",
      "\thex: b4abdb096f1762fe\n",
      "\tbin: 0b1111011001011001000111001111101111011101110100110010001001111110\n",
      "hehehehe:\n",
      "\thex: a09ad151ef1f32aa\n",
      "\tbin: 0b111100101011010101011110110110110010111001100001011011111011000\n",
      "iteration: 1505\n"
     ]
    },
    {
     "data": {
      "image/png": "[encoded data removed]",
      "text/plain": [
       "<Figure size 432x288 with 1 Axes>"
      ]
     },
     "metadata": {
      "needs_background": "light"
     },
     "output_type": "display_data"
    }
   ],
   "source": [
    "distance_fn = bit_distance\n",
    "delta = 18\n",
    "x0 = \"aaaaaaaa\"\n",
    "histogram = floyd(distance_fn, f_str_rand, x0, delta)\n",
    "plot(histogram)"
   ]
  },
  {
   "cell_type": "markdown",
   "metadata": {},
   "source": [
    "## II. Find patterns from the encryption key  \n",
    "No intersting patterns nor cycles has been found during the previous exploration using the x0 seed. It could be interesting now to apply these algorithms on the key instead of x0.\n",
    "\n",
    "First of all, let's define a new floyd function that takes in input x0 and an initial key."
   ]
  },
  {
   "cell_type": "code",
   "execution_count": null,
   "metadata": {},
   "outputs": [],
   "source": [
    "def floyd_with_key(\n",
    "    distance_fn: Callable, \n",
    "    f: Callable, \n",
    "    x0: str,\n",
    "    key: str,\n",
    "    delta: int,\n",
    "    max_iter: int,\n",
    "    verbose: bool=True,\n",
    "    ):\n",
    "    \"\"\"\n",
    "    Same function as the first one except that the DES object is recreated\n",
    "    at each loop with a new key.\n",
    "    \"\"\"\n",
    "    m = 1\n",
    "    histogram = []\n",
    "    tortue = f(key)\n",
    "    lievre = f(f(key))\n",
    "    if tortue is None or lievre is None:\n",
    "        return [len(key)]\n",
    "    dist = distance_fn(encrypt_with_key(x0, lievre), encrypt_with_key(x0, tortue))\n",
    "\n",
    "    while (dist > delta or lievre == tortue) and m <= max_iter:\n",
    "        m = m + 1\n",
    "\n",
    "        tortue = f(tortue)\n",
    "        lievre = f(f(lievre))\n",
    "        if tortue is None or lievre is None:\n",
    "            break\n",
    "        if lievre == tortue:\n",
    "            continue\n",
    "\n",
    "        dist = distance_fn(encrypt_with_key(x0, lievre), encrypt_with_key(x0, tortue))\n",
    "        histogram.append(dist)\n",
    "\n",
    "    if verbose:\n",
    "        if m <= max_iter and not (tortue is None or lievre is None):\n",
    "            print(f'\\n[+] Found - number of differences: {dist}')\n",
    "            dump_encrypt_key(x0, lievre)\n",
    "            dump_encrypt_key(x0, tortue)\n",
    "            print(f'iteration: {m}')\n",
    "        else:\n",
    "            print(f'No solution found in reasonable time. ({max_iter} iter) (min dist: {dist}')\n",
    "    return histogram"
   ]
  },
  {
   "cell_type": "markdown",
   "metadata": {},
   "source": [
    "### First match! Bit distance for 8 Bytes key\n",
    "When using randomly generated strings, we finally find a match!  \n",
    "> The pattern found is the pair (abab, bbbb).  \n",
    "> It means that each pair following this pattern will have the same encrypted value! What a discovery.  \n",
    "Example of found pair: (eaeaeaea, dadadada) => b6a24204afa82366"
   ]
  },
  {
   "cell_type": "code",
   "execution_count": null,
   "metadata": {
    "tags": []
   },
   "outputs": [
    {
     "name": "stdout",
     "output_type": "stream",
     "text": [
      "\n",
      "[+] Found - number of differences: 0\n",
      "ilililil:\n",
      "\thex: 02fd5b3b7ce492dc\n",
      "\tbin: 0b101111011011111100111010101101111010110110000111000000100000011\n",
      "imimimim:\n",
      "\thex: 02fd5b3b7ce492dc\n",
      "\tbin: 0b101111011011111100111010101101111010110110000111000000100000011\n",
      "iteration: 78\n"
     ]
    }
   ],
   "source": [
    "distance_fn = bit_distance\n",
    "delta = 0\n",
    "x0  = \"aaaaaaaa\"\n",
    "key = \"aaaaaaaa\"\n",
    "max_iter = 1e4\n",
    "histogram = floyd_with_key(distance_fn, f_str_rand, x0, key, delta, max_iter)"
   ]
  },
  {
   "cell_type": "markdown",
   "metadata": {},
   "source": [
    "### Proof of concept\n",
    "Proof that the following discovery works:"
   ]
  },
  {
   "cell_type": "code",
   "execution_count": null,
   "metadata": {},
   "outputs": [
    {
     "name": "stdout",
     "output_type": "stream",
     "text": [
      "0\n",
      "05ef5892e81d7478af100b4ddbba311d\n",
      "05ef5892e81d7478af100b4ddbba311d\n"
     ]
    }
   ],
   "source": [
    "x0 = \"yhtmlsrguipdbnqj\"\n",
    "\n",
    "key = \"eaeaeaea\"\n",
    "algo = des(key)\n",
    "a = algo.encrypt(x0)\n",
    "\n",
    "key = \"dadadada\"\n",
    "algo = des(key)\n",
    "b = algo.encrypt(x0)\n",
    "\n",
    "print(bit_distance(a, b))\n",
    "print(b.hex())\n",
    "print(a.hex())"
   ]
  },
  {
   "cell_type": "markdown",
   "metadata": {},
   "source": [
    "> Thus, we know that every test will have a score of 8/8 because the found match is exactly the same."
   ]
  },
  {
   "cell_type": "markdown",
   "metadata": {},
   "source": [
    "### Match: Char distance for 8 Bytes key\n",
    "A match is found following the same schema."
   ]
  },
  {
   "cell_type": "code",
   "execution_count": null,
   "metadata": {},
   "outputs": [
    {
     "name": "stdout",
     "output_type": "stream",
     "text": [
      "\n",
      "[+] Found - number of differences: 0\n",
      "ixixixix:\n",
      "\thex: 669d4780e73d01e6\n",
      "\tbin: 0b1100011101001101111100101100100010001110100111001100110100000100\n",
      "iyiyiyiy:\n",
      "\thex: 669d4780e73d01e6\n",
      "\tbin: 0b1100011101001101111100101100100010001110100111001100110100000100\n",
      "iteration: 60\n"
     ]
    },
    {
     "data": {
      "image/png": "[encoded data removed]",
      "text/plain": [
       "<Figure size 432x288 with 1 Axes>"
      ]
     },
     "metadata": {
      "needs_background": "light"
     },
     "output_type": "display_data"
    }
   ],
   "source": [
    "distance_fn = char_distance\n",
    "delta = 6\n",
    "x0 = \"yejansgx\"\n",
    "key = \"tehfdnps\"\n",
    "max_iter = 1e4\n",
    "histogram = floyd_with_key(distance_fn, f_str_rand, x0, key, delta, max_iter)\n",
    "plot(histogram)"
   ]
  },
  {
   "cell_type": "markdown",
   "metadata": {},
   "source": [
    "### Match: LCS distance for 8 Bytes key\n"
   ]
  },
  {
   "cell_type": "code",
   "execution_count": null,
   "metadata": {},
   "outputs": [
    {
     "name": "stdout",
     "output_type": "stream",
     "text": [
      "\n",
      "[+] Found - number of differences: 0\n",
      "ryryryry:\n",
      "\thex: b9884cf84894f9e4\n",
      "\tbin: 0b1000001011110110110111000001001100101110000000111100000101001111\n",
      "sysysysy:\n",
      "\thex: b9884cf84894f9e4\n",
      "\tbin: 0b1000001011110110110111000001001100101110000000111100000101001111\n",
      "iteration: 99\n"
     ]
    },
    {
     "data": {
      "image/png": "[encoded data removed]",
      "text/plain": [
       "<Figure size 432x288 with 1 Axes>"
      ]
     },
     "metadata": {
      "needs_background": "light"
     },
     "output_type": "display_data"
    }
   ],
   "source": [
    "distance_fn = lcs_distance\n",
    "delta = 6\n",
    "x0 = \"yejansgx\"\n",
    "key = \"tehfdnps\"\n",
    "max_iter = 1e4\n",
    "histogram = floyd_with_key(distance_fn, f_str_rand, x0, key, delta, max_iter)\n",
    "plot(histogram)"
   ]
  },
  {
   "cell_type": "markdown",
   "metadata": {},
   "source": [
    "## III. Analysis of the ASCII letters using ASCII incrementation or translation\n",
    "This approach will use separately the ASCII letters of the strings and offset them by one iteratively in order to find a possible pattern.  \n",
    "**Schema:** abcd => bcde => ... => zzzz"
   ]
  },
  {
   "cell_type": "code",
   "execution_count": null,
   "metadata": {},
   "outputs": [],
   "source": [
    "def f_str_ascii_increment(data: str, right: bool, verbose: bool=False) -> str:\n",
    "    \"\"\"\n",
    "    Iterative function which generates an ASCII letter incrementation.\n",
    "    Ex: abcd => bcde => ... => zzzz\n",
    "    `right` = True => right translation\n",
    "    `right` = False => left translation\n",
    "    \"\"\"\n",
    "    if data is None or \\\n",
    "        (right and data.find('z') != -1) or \\\n",
    "        (not right and data.find('a') != -1):\n",
    "        return None\n",
    "\n",
    "    off = 1 if right else -1\n",
    "    newList = list(map(lambda x: chr(ord(x) + off), data))\n",
    "    res = ''.join(newList)\n",
    "    if verbose:\n",
    "        print(res)\n",
    "    return res\n",
    "\n",
    "assert f_str_ascii_increment('abcd', True) == 'bcde'\n",
    "assert f_str_ascii_increment('yyyy', True) == 'zzzz'\n",
    "assert f_str_ascii_increment('bcde', False) == 'abcd'"
   ]
  },
  {
   "cell_type": "code",
   "execution_count": null,
   "metadata": {},
   "outputs": [],
   "source": [
    "\"\"\"\n",
    "Wrappers for left and right incrementation.\n",
    "\"\"\"\n",
    "\n",
    "def f_str_ascii_right_increment(data: str, verbose: bool=False) -> str:\n",
    "    return f_str_ascii_increment(data, True, verbose)\n",
    "\n",
    "def f_str_ascii_left_increment(data: str, verbose: bool=False) -> str:\n",
    "    return f_str_ascii_increment(data, False, verbose)"
   ]
  },
  {
   "cell_type": "markdown",
   "metadata": {},
   "source": [
    "### ASCII right incrementation with LCS distance\n",
    "Using ASCII incrementation of all letters, no pattern is found."
   ]
  },
  {
   "cell_type": "code",
   "execution_count": null,
   "metadata": {
    "tags": []
   },
   "outputs": [
    {
     "name": "stdout",
     "output_type": "stream",
     "text": [
      "No solution found in reasonable time. (10000.0 iter) (min dist: 7\n"
     ]
    },
    {
     "data": {
      "image/png": "[encoded data removed]",
      "text/plain": [
       "<Figure size 432x288 with 1 Axes>"
      ]
     },
     "metadata": {
      "needs_background": "light"
     },
     "output_type": "display_data"
    }
   ],
   "source": [
    "distance_fn = lcs_distance\n",
    "delta = 6\n",
    "x0 = \"yejansgx\"\n",
    "key = \"tehfdnps\"\n",
    "max_iter = 1e4\n",
    "histogram = floyd_with_key(distance_fn, f_str_ascii_right_increment, x0, key, delta, max_iter)\n",
    "plot(histogram)"
   ]
  },
  {
   "cell_type": "markdown",
   "metadata": {},
   "source": [
    "### ASCII right incrementation with char distance\n",
    "No pattern found."
   ]
  },
  {
   "cell_type": "code",
   "execution_count": null,
   "metadata": {
    "tags": []
   },
   "outputs": [
    {
     "name": "stdout",
     "output_type": "stream",
     "text": [
      "No solution found in reasonable time. (10000.0 iter) (min dist: 8\n"
     ]
    },
    {
     "data": {
      "image/png": "[encoded data removed]",
      "text/plain": [
       "<Figure size 432x288 with 1 Axes>"
      ]
     },
     "metadata": {
      "needs_background": "light"
     },
     "output_type": "display_data"
    }
   ],
   "source": [
    "distance_fn = char_distance\n",
    "delta = 6\n",
    "x0 = \"yejansgx\"\n",
    "key = \"tehfdnps\"\n",
    "max_iter = 1e4\n",
    "histogram = floyd_with_key(distance_fn, f_str_ascii_right_increment, x0, key, delta, max_iter)\n",
    "plot(histogram)"
   ]
  },
  {
   "cell_type": "markdown",
   "metadata": {},
   "source": [
    "### ASCII right incrementation with Bit distance\n",
    "No pattern found."
   ]
  },
  {
   "cell_type": "code",
   "execution_count": null,
   "metadata": {
    "tags": []
   },
   "outputs": [
    {
     "name": "stdout",
     "output_type": "stream",
     "text": [
      "No solution found in reasonable time. (10000.0 iter) (min dist: 28\n"
     ]
    },
    {
     "data": {
      "image/png": "[encoded data removed]",
      "text/plain": [
       "<Figure size 432x288 with 1 Axes>"
      ]
     },
     "metadata": {
      "needs_background": "light"
     },
     "output_type": "display_data"
    }
   ],
   "source": [
    "distance_fn = bit_distance\n",
    "delta = 16\n",
    "x0 = \"yejansgx\"\n",
    "key = \"tehfdnps\"\n",
    "max_iter = 1e4\n",
    "histogram = floyd_with_key(distance_fn, f_str_ascii_right_increment, x0, key, delta, max_iter)\n",
    "plot(histogram)"
   ]
  },
  {
   "cell_type": "markdown",
   "metadata": {},
   "source": [
    "## IV. Benchmark\n",
    "This is the final step: the total benchmarking of all the methods.  \n",
    "It can be seen as a bruteforce of all the previous methods.  \n",
    "We previously tested some implementations but now we're gonna use them all and compare them using a graph representation.\n",
    "> Goal: combine all the previous algorithms to find the one with the best results.\n",
    "\n",
    "### Benchmark on x0"
   ]
  },
  {
   "cell_type": "code",
   "execution_count": null,
   "metadata": {
    "tags": []
   },
   "outputs": [],
   "source": [
    "def benchmark_x0(x0: str, delta: int, max_iter: int):\n",
    "    \"\"\"\n",
    "    Use floyd() on all possible combinations of distance \n",
    "    and iterative functions.\n",
    "    \"\"\"\n",
    "    distance_funcs = {\n",
    "        'bit_dist': bit_distance,\n",
    "        'char_dist': char_distance,\n",
    "        'lcs_dist': lcs_distance,\n",
    "    }\n",
    "    iterative_funcs = {\n",
    "        'encrypt': f,\n",
    "        'increm': f_str_increm_no_double,\n",
    "        'random': f_str_rand,\n",
    "        'ascii_right': f_str_ascii_right_increment,\n",
    "        'ascii_left': f_str_ascii_left_increment,\n",
    "    }\n",
    "    histograms = []\n",
    "\n",
    "    for dist_str, dist in distance_funcs.items():\n",
    "        for ite_str, ite in iterative_funcs.items():\n",
    "            operation_str = f'{dist_str}-{ite_str}'\n",
    "            hist = floyd(dist, ite, x0, delta, max_iter, False)\n",
    "            histograms.append((operation_str, hist))\n",
    "\n",
    "    def get_default_value(name, x0):\n",
    "        return len(x0) if name.find('bit') == -1 else len(x0)**2\n",
    "\n",
    "    best_results = [min(hist, default=get_default_value(name, x0)) \\\n",
    "        for name, hist in histograms]\n",
    "    best_names = [name for name, _ in histograms]\n",
    "    return (best_results, best_names)"
   ]
  },
  {
   "cell_type": "code",
   "execution_count": null,
   "metadata": {},
   "outputs": [],
   "source": [
    "def plot_horizontal_histogram(values, labels, title):\n",
    "    \"\"\"\n",
    "    Plots an horizontal histogram with labels.\n",
    "    \"\"\"\n",
    "    fig, ax = plt.subplots(figsize =(16, 9))\n",
    "    ax.barh(best_names, best_results)\n",
    "    \n",
    "    for s in ['top', 'bottom', 'left', 'right']:\n",
    "        ax.spines[s].set_visible(False)\n",
    "    ax.xaxis.set_ticks_position('none')\n",
    "    ax.yaxis.set_ticks_position('none')\n",
    "    ax.xaxis.set_tick_params(pad = 5)\n",
    "    ax.yaxis.set_tick_params(pad = 10)\n",
    "    \n",
    "    ax.grid(b = True, color ='grey',\n",
    "            linestyle ='-.', linewidth = 0.5,\n",
    "            alpha = 0.2)\n",
    "    \n",
    "    ax.invert_yaxis()\n",
    "    for i in ax.patches:\n",
    "        plt.text(i.get_width() + 0.2, i.get_y() + 0.5,\n",
    "                str(round((i.get_width()), 2)),\n",
    "                fontsize = 10, fontweight ='bold',\n",
    "                color ='grey')\n",
    "\n",
    "    ax.set_title(title, loc ='left', )\n",
    "    plt.show()"
   ]
  },
  {
   "cell_type": "markdown",
   "metadata": {},
   "source": [
    "## Normalize!\n",
    "Since now, all our data are \"inversed\", we want to know the number of similitudes and not the number of differences.  \n",
    "We also need to convert the bits in \"unities\" like the other cases (by /8)."
   ]
  },
  {
   "cell_type": "code",
   "execution_count": null,
   "metadata": {},
   "outputs": [],
   "source": [
    "def normalize(results, names, len_to_normalize: int):\n",
    "    for i, (result, name) in enumerate(zip(results, names)):\n",
    "        if name.find('bit') != -1:\n",
    "            # ex: 23 => 23/8\n",
    "            results[i] = results[i] / 8\n",
    "            # ex: 6 => 8-6\n",
    "        results[i] = (len_to_normalize - results[i]) / (len_to_normalize // 8)\n",
    "    return results"
   ]
  },
  {
   "cell_type": "markdown",
   "metadata": {},
   "source": [
    "### Benchmark x0 on 8 Bytes\n",
    "We only found a maximum of 2 similar characters using lcs and character functions, which is no great results.  \n",
    "The best results we got is with the bit similarities but it is an expected behavior because the propability is higher."
   ]
  },
  {
   "cell_type": "code",
   "execution_count": null,
   "metadata": {
    "tags": []
   },
   "outputs": [
    {
     "data": {
      "image/png": "[encoded data removed]",
      "text/plain": [
       "<Figure size 1152x648 with 1 Axes>"
      ]
     },
     "metadata": {
      "needs_background": "light"
     },
     "output_type": "display_data"
    }
   ],
   "source": [
    "x0 = \"drjdplsj\"\n",
    "delta = 0\n",
    "max_iter = 5000\n",
    "best_results, best_names = benchmark_x0(x0, delta, max_iter)\n",
    "best_results = normalize(best_results, best_names, len(x0))\n",
    "plot_horizontal_histogram(best_results, best_names, \"Benchmark of algorithms on x0\")"
   ]
  },
  {
   "cell_type": "markdown",
   "metadata": {},
   "source": [
    "### Benchmark x0 on 32 Bytes\n",
    "Pretty much the same results as for 8 bytes, except better results with ascii translations."
   ]
  },
  {
   "cell_type": "code",
   "execution_count": null,
   "metadata": {
    "tags": []
   },
   "outputs": [
    {
     "data": {
      "image/png": "[encoded data removed]",
      "text/plain": [
       "<Figure size 1152x648 with 1 Axes>"
      ]
     },
     "metadata": {
      "needs_background": "light"
     },
     "output_type": "display_data"
    }
   ],
   "source": [
    "x0 = \"aurponfhskdloieyrhtnshqkzpelrmqa\"\n",
    "delta = 0\n",
    "max_iter = 5000\n",
    "best_results, best_names = benchmark_x0(x0, delta, max_iter)\n",
    "best_results = normalize(best_results, best_names, len(x0))\n",
    "plot_horizontal_histogram(best_results, best_names, \"Benchmark of algorithms on x0\")"
   ]
  },
  {
   "cell_type": "markdown",
   "metadata": {},
   "source": [
    "### Benchmark on the key\n",
    "This is where we confirm that we found a pattern when using the key."
   ]
  },
  {
   "cell_type": "code",
   "execution_count": null,
   "metadata": {},
   "outputs": [],
   "source": [
    "def benchmark_key(x0: str, key: str, delta: int, max_iter: int):\n",
    "    \"\"\"\n",
    "    Use floyd_with_key() on all possible combinations of distance \n",
    "    and iterative functions.\n",
    "    \"\"\"\n",
    "    distance_funcs = {\n",
    "        'bit_dist': bit_distance,\n",
    "        'char_dist': char_distance,\n",
    "        'lcs_dist': lcs_distance,\n",
    "    }\n",
    "    iterative_funcs = {\n",
    "        'encrypt': f,\n",
    "        'increm': f_str_increm_no_double,\n",
    "        'random': f_str_rand,\n",
    "        'ascii_right': f_str_ascii_right_increment,\n",
    "        'ascii_left': f_str_ascii_left_increment,\n",
    "    }\n",
    "    histograms = []\n",
    "\n",
    "    for dist_str, dist in distance_funcs.items():\n",
    "        for ite_str, ite in iterative_funcs.items():\n",
    "            operation_str = f'{dist_str}-{ite_str}'\n",
    "            hist = floyd_with_key(dist, ite, x0, key, delta, max_iter, False)\n",
    "            histograms.append((operation_str, hist))\n",
    "\n",
    "    def get_default_value(name, x0):\n",
    "        return len(x0) if name.find('bit') == -1 else len(x0)**2\n",
    "\n",
    "    best_results = [min(hist, default=get_default_value(name, x0)) \\\n",
    "        for name, hist in histograms]\n",
    "    best_names = [name for name, _ in histograms]\n",
    "    return (best_results, best_names)"
   ]
  },
  {
   "cell_type": "markdown",
   "metadata": {},
   "source": [
    "We found a patern for:  \n",
    "- bit distance with random generation\n",
    "- char distance with random generation\n",
    "- lcs with random generation  "
   ]
  },
  {
   "cell_type": "code",
   "execution_count": null,
   "metadata": {},
   "outputs": [
    {
     "data": {
      "image/png": "[encoded data removed]",
      "text/plain": [
       "<Figure size 1152x648 with 1 Axes>"
      ]
     },
     "metadata": {
      "needs_background": "light"
     },
     "output_type": "display_data"
    }
   ],
   "source": [
    "delta = 0\n",
    "x0 = \"vncbzpls\"\n",
    "key = \"orituhsk\"\n",
    "max_iter = 3000\n",
    "best_results, best_names = benchmark_key(x0, key, delta, max_iter)\n",
    "best_results = normalize(best_results, best_names, len(key))\n",
    "plot_horizontal_histogram(best_results, best_names, \"Benchmark of algorithms on key\")"
   ]
  },
  {
   "cell_type": "markdown",
   "metadata": {},
   "source": [
    "## V. Conclusion\n",
    "#### Pattern 1 (found a cycle for nb_turns=2)\n",
    "Using floyd algorithm we found a cycle in 7 iterations for the strings xyxyxyxy, xxxxxxxx, yxyxyxyx...\n",
    "\n",
    "#### Pattern 2 (key):  \n",
    "We found that we can generate the same encrypted value for three similar input strings, and sometimes more.  \n",
    "```\n",
    "  k: str\n",
    "  DES('abab...ab').encrypt(k) => X\n",
    "  DES('acac...ac').encrypt(k) => X\n",
    "  DES('bbbb...bb').encrypt(k) => X\n",
    "```\n",
    "However,\n",
    "```\n",
    "  DES('adad...ad').encrypt(k) => Y != X\n",
    "  DES('cbcb...cb').encrypt(k) => Y != X\n",
    "```\n",
    "In some cases (not always), this pattern also works:\n",
    "```\n",
    "  DES('abab...ab').encrypt(k) => X\n",
    "  DES('bcbc...bc').encrypt(k) => X\n",
    "  (ex: xpxpxpxp and yqyqyqyq)\n",
    "```\n",
    "So for any given key *k*, we can find two keys that will give the same encrypted value, and in some cases three.  \n",
    "\n",
    "#### Pattern 3 (data):  \n",
    "We also found that for a key using only a succession of the same character of 2 alphabet consecutive characters (ex: aeeaaaae, dddddddd), we can generate 2^n substitutions that will produce the same output (with n = length of message).\n",
    "```\n",
    "  DES(key).encrypt('dddddddd') => X\n",
    "  DES(key).encrypt('cccccccc') => X\n",
    "  DES(key).encrypt('dcdcdcdc') => X\n",
    "  DES(key).encrypt('ddddcccc') => X\n",
    "  ...\n",
    "```\n"
   ]
  },
  {
   "cell_type": "markdown",
   "metadata": {},
   "source": [
    "### POC: pattern found in key encryption"
   ]
  },
  {
   "cell_type": "code",
   "execution_count": null,
   "metadata": {},
   "outputs": [],
   "source": [
    "x0 = \"yhtmlsrguipdbnqj\"\n",
    "pairs = {\n",
    "    \"abababab\": \"acacacac\",\n",
    "    \"bcbcbcbc\": \"cccccccc\",\n",
    "    \"xpxpxpxp\": \"yqyqyqyq\",\n",
    "}\n",
    "\n",
    "for k, v in pairs.items():\n",
    "    algo = des(k)\n",
    "    a = algo.encrypt(x0)\n",
    "    algo = des(v)\n",
    "    b = algo.encrypt(x0)\n",
    "\n",
    "    assert bit_distance(a, b) == 0\n",
    "    assert a == b"
   ]
  },
  {
   "cell_type": "markdown",
   "metadata": {},
   "source": [
    "### POC: pattern found in data"
   ]
  },
  {
   "cell_type": "code",
   "execution_count": null,
   "metadata": {},
   "outputs": [],
   "source": [
    "def chain_cipher(key):\n",
    "    \"\"\"\n",
    "    Returns a list of 5 chained encryption using `key`.\n",
    "    \"\"\"\n",
    "    x0 = \"yhtmlsrguipdbnqj\"\n",
    "    k = des(key)\n",
    "    res = []\n",
    "    for _ in range(5):\n",
    "        x0 = k.encrypt(x0)\n",
    "        res.append(x0)\n",
    "    return res\n",
    "\n",
    "a = chain_cipher(\"dddddddd\")\n",
    "b = chain_cipher(\"eeeeeeee\")\n",
    "c = chain_cipher(\"edddddde\")\n",
    "d = chain_cipher(\"eeedeeed\")\n",
    "e = chain_cipher(\"edddeddd\")\n",
    "\n",
    "assert a == b == c == d == e"
   ]
  }
 ],
 "metadata": {
  "interpreter": {
   "hash": "d10c71e3a5563e3e2970f455b55b71cbf7ea59d897bc676968e900e10faad1af"
  },
  "kernelspec": {
   "display_name": "Python 3",
   "language": "python",
   "name": "python3"
  },
  "language_info": {
   "codemirror_mode": {
    "name": "ipython",
    "version": 3
   },
   "file_extension": ".py",
   "mimetype": "text/x-python",
   "name": "python",
   "nbconvert_exporter": "python",
   "pygments_lexer": "ipython3",
   "version": "3.8.8"
  }
 },
 "nbformat": 4,
 "nbformat_minor": 2
}
